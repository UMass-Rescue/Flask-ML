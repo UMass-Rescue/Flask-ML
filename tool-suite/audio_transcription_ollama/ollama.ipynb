{
 "cells": [
  {
   "cell_type": "code",
   "execution_count": 3,
   "metadata": {},
   "outputs": [
    {
     "name": "stdout",
     "output_type": "stream",
     "text": [
      "Downloading from https://www.kaggle.com/api/v1/datasets/download/rajatrc1705/youtube-videos-dataset?dataset_version_number=1...\n"
     ]
    },
    {
     "name": "stderr",
     "output_type": "stream",
     "text": [
      "100%|██████████| 646k/646k [00:00<00:00, 3.75MB/s]\n"
     ]
    },
    {
     "name": "stdout",
     "output_type": "stream",
     "text": [
      "Extracting files...\n",
      "Path to dataset files: C:\\Users\\cshi\\.cache\\kagglehub\\datasets\\rajatrc1705\\youtube-videos-dataset\\versions\\1\n"
     ]
    }
   ],
   "source": [
    "import kagglehub\n",
    "\n",
    "# Download latest version\n",
    "path = kagglehub.dataset_download(\"rajatrc1705/youtube-videos-dataset\")\n",
    "\n",
    "print(\"Path to dataset files:\", path)"
   ]
  },
  {
   "cell_type": "code",
   "execution_count": 19,
   "metadata": {},
   "outputs": [
    {
     "name": "stdout",
     "output_type": "stream",
     "text": [
      "i= 0\n",
      "getting transcript\n",
      "Exception when getting transcript\n",
      "i= 0\n",
      "getting transcript\n",
      "Exception when getting transcript\n",
      "i= 0\n",
      "getting transcript\n",
      "Exception when getting transcript\n",
      "i= 0\n",
      "getting transcript\n",
      "Exception when getting transcript\n",
      "i= 0\n",
      "getting transcript\n",
      "Exception when getting transcript\n",
      "i= 0\n",
      "getting transcript\n",
      "transforming text\n",
      "get num people\n",
      "i= 1\n",
      "getting transcript\n",
      "Exception when getting transcript\n",
      "i= 1\n",
      "getting transcript\n",
      "Exception when getting transcript\n",
      "i= 1\n",
      "getting transcript\n",
      "Exception when getting transcript\n",
      "i= 1\n",
      "getting transcript\n",
      "Exception when getting transcript\n",
      "i= 1\n",
      "getting transcript\n",
      "Exception when getting transcript\n",
      "i= 1\n",
      "getting transcript\n",
      "Exception when getting transcript\n",
      "i= 1\n",
      "getting transcript\n",
      "Exception when getting transcript\n",
      "i= 1\n",
      "getting transcript\n",
      "Exception when getting transcript\n",
      "i= 1\n",
      "getting transcript\n",
      "Exception when getting transcript\n",
      "i= 1\n",
      "getting transcript\n",
      "Exception when getting transcript\n",
      "i= 1\n",
      "getting transcript\n",
      "transforming text\n",
      "get num people\n",
      "i= 2\n",
      "getting transcript\n",
      "Exception when getting transcript\n",
      "i= 2\n",
      "getting transcript\n",
      "Exception when getting transcript\n",
      "i= 2\n",
      "getting transcript\n",
      "Exception when getting transcript\n",
      "i= 2\n",
      "getting transcript\n",
      "Exception when getting transcript\n",
      "i= 2\n",
      "getting transcript\n",
      "transforming text\n",
      "get num people\n",
      "i= 3\n"
     ]
    }
   ],
   "source": [
    "import pandas as pd\n",
    "\n",
    "from youtube_transcript_api import YouTubeTranscriptApi\n",
    "\n",
    "from deepmultilingualpunctuation import PunctuationModel\n",
    "model = PunctuationModel()\n",
    "\n",
    "df = pd.read_csv(path + \"\\\\youtube.csv\")\n",
    "\n",
    "segment_about = \"car\"\n",
    "\n",
    "i = 0\n",
    "test_stop = None #specify to stop early \n",
    "for index, row in df.iterrows():\n",
    "    print('i=',i)\n",
    "    if test_stop is not None and i > test_stop:\n",
    "        break\n",
    "\n",
    "    print('getting transcript')\n",
    "    video_id = row['link']\n",
    "    try:\n",
    "        transcript = YouTubeTranscriptApi.get_transcript(video_id)[0:10] # take just the first 50 phrases\n",
    "    except Exception:\n",
    "        print('Exception when getting transcript')\n",
    "        continue\n",
    "\n",
    "    print('transforming text')\n",
    "    doc=[]\n",
    "    for line in transcript:\n",
    "        if \"\\n\" in line['text']:\n",
    "            x=line['text'].replace(\"\\n\",\" \")\n",
    "            doc.append(x)\n",
    "        else:\n",
    "            doc.append(line['text'])\n",
    "    paragraph=\" \".join(doc) # make into paragraph form\n",
    "    result = model.restore_punctuation(paragraph) # restore punctuation\n",
    "\n",
    "    print('get num people')\n",
    "    n_people = llm.invoke(\"How many people are talking in the following video? The beginning of the transcript is as follows: \" + result + \"\\nPlease give the answer as a single number without punctuation.\")\n",
    "    df.loc[index, 'n_people'] = n_people\n",
    "\n",
    "    print('segment about')\n",
    "    about = []\n",
    "    for segment in transcript:\n",
    "        if segment_about in segment['text']:\n",
    "            about.append({'start': segment['start'], 'duration': segment['duration']})\n",
    "    df.loc[index, 'segments about car'] = about\n",
    "\n",
    "    i += 1\n"
   ]
  },
  {
   "cell_type": "code",
   "execution_count": 20,
   "metadata": {},
   "outputs": [
    {
     "name": "stdout",
     "output_type": "stream",
     "text": [
      "           link                                              title  \\\n",
      "5   0znTshl90-Y  Koh Phangan: 'New Thailand' for Indian Family ...   \n",
      "16  USGN-aTzlG4  TRAVEL DAY VLOG: Airport Essentials, What's In...   \n",
      "21  ZR7Z74UY2TY              VAN LIFE | A Day in The Life | MEXICO   \n",
      "\n",
      "                                          description category n_people  \n",
      "5   MOUNTAIN TREKKER\\n1.42M subscribers\\nJOIN\\nSUB...   travel        1  \n",
      "16  Emma Rose\\n120K subscribers\\nSUBSCRIBE\\nFollow...   travel        2  \n",
      "21  Max & Lee\\n505K subscribers\\nSUBSCRIBE\\nWe hav...   travel        2  \n"
     ]
    }
   ],
   "source": [
    "print(df.dropna(subset=['n_people', 'about']))"
   ]
  },
  {
   "cell_type": "markdown",
   "metadata": {},
   "source": [
    "Below code was for testing"
   ]
  },
  {
   "cell_type": "code",
   "execution_count": null,
   "metadata": {},
   "outputs": [
    {
     "name": "stdout",
     "output_type": "stream",
     "text": [
      "[{'text': \"Elon announces he's going to send an\", 'start': 0.08, 'duration': 4.0}, {'text': 'uncrewed Mission to', 'start': 2.2, 'duration': 6.359}, {'text': 'Mars he and I got into a little dust up', 'start': 4.08, 'duration': 7.439}, {'text': 'in recent weeks', 'start': 8.559, 'duration': 6.681}, {'text': \"consider that he hasn't done anything\", 'start': 11.519, 'duration': 6.161}, {'text': \"that NASA hasn't already done the the\", 'start': 15.24, 'duration': 5.879}, {'text': 'actual space Frontier is still held by', 'start': 17.68, 'duration': 6.64}, {'text': 'NASA and I I was surprised to see some', 'start': 21.119, 'duration': 6.761}, {'text': 'headlines because they it largely', 'start': 24.32, 'duration': 5.959}, {'text': 'misrepresented what I actually said', 'start': 27.88, 'duration': 4.839}, {'text': \"publicly didn't so much misrepresent it\", 'start': 30.279, 'duration': 5.881}, {'text': 'but it made more of it than I did maybe', 'start': 32.719, 'duration': 6.32}, {'text': 'because they felt it could serve as good', 'start': 36.16, 'duration': 6.2}, {'text': \"clickbait let's go back a few years when\", 'start': 39.039, 'duration': 7.121}, {'text': 'Elon and SpaceX was commissioned by NASA', 'start': 42.36, 'duration': 5.64}, {'text': 'to bring cargo to the space', 'start': 46.16, 'duration': 5.399}, {'text': 'station that was headlines oh my God', 'start': 48.0, 'duration': 6.559}, {'text': 'opening a new frontier in space that', 'start': 51.559, 'duration': 5.201}, {'text': 'private Enterprise will they lead the', 'start': 54.559, 'duration': 4.121}, {'text': \"way and the big headlines and I'm\", 'start': 56.76, 'duration': 3.799}, {'text': 'thought what what', 'start': 58.68, 'duration': 4.399}, {'text': \"he's taking cargo to the space station\", 'start': 60.559, 'duration': 5.681}, {'text': \"something NASA's been doing for decades\", 'start': 63.079, 'duration': 6.201}, {'text': 'so now private Enterprise is going to do', 'start': 66.24, 'duration': 8.36}, {'text': 'it how that fact could turn into oh my', 'start': 69.28, 'duration': 6.839}, {'text': 'gosh private Enterprise is going to lead', 'start': 74.6, 'duration': 4.839}, {'text': \"the way I I didn't see how one connects\", 'start': 76.119, 'duration': 7.561}, {'text': \"to the other here's my point the history\", 'start': 79.439, 'duration': 6.201}, {'text': 'of really expensive things ever', 'start': 83.68, 'duration': 3.119}, {'text': 'happening in', 'start': 85.64, 'duration': 4.64}, {'text': 'Civilization has in essentially every', 'start': 86.799, 'duration': 7.761}, {'text': 'case been led geopolitically by Nations', 'start': 90.28, 'duration': 7.96}, {'text': 'Nations lead expensive', 'start': 94.56, 'duration': 6.16}, {'text': 'projects and when the cost of these', 'start': 98.24, 'duration': 5.32}, {'text': 'projects are understood the risks are', 'start': 100.72, 'duration': 6.28}, {'text': 'Quantified and the time frames are', 'start': 103.56, 'duration': 5.72}, {'text': 'established then private Enterprise', 'start': 107.0, 'duration': 4.56}, {'text': 'comes in later to see if they can make a', 'start': 109.28, 'duration': 5.439}, {'text': \"buck off of it that's perfectly normal\", 'start': 111.56, 'duration': 6.72}, {'text': 'and natural Arc in the history of major', 'start': 114.719, 'duration': 6.36}, {'text': 'funded projects if the project does not', 'start': 118.28, 'duration': 4.68}, {'text': 'require much money then private', 'start': 121.079, 'duration': 4.241}, {'text': \"Enterprise could do it because it's a\", 'start': 122.96, 'duration': 4.36}, {'text': 'relatively low risk fitted into their', 'start': 125.32, 'duration': 6.4}, {'text': \"R&D budget fine I'm talking about major\", 'start': 127.32, 'duration': 6.6}, {'text': 'allocations of the resources of a', 'start': 131.72, 'duration': 4.159}, {'text': 'civilization like China building the', 'start': 133.92, 'duration': 4.48}, {'text': 'Great Wall like Europe building', 'start': 135.879, 'duration': 5.72}, {'text': 'Cathedrals uh and churches a huge', 'start': 138.4, 'duration': 6.08}, {'text': 'investment of time energy and effort', 'start': 141.599, 'duration': 5.64}, {'text': 'like the Apollo program the Manhattan', 'start': 144.48, 'duration': 5.96}, {'text': 'Project all of these are', 'start': 147.239, 'duration': 4.961}, {'text': 'instigated by either governments and in', 'start': 150.44, 'duration': 5.2}, {'text': 'the case of the cathedrals Praise of', 'start': 152.2, 'duration': 6.399}, {'text': 'deity the pyramids add those Praise of', 'start': 155.64, 'duration': 5.879}, {'text': 'royalty these are forces that dislodge', 'start': 158.599, 'duration': 5.681}, {'text': 'money from the coffers of a civilization', 'start': 161.519, 'duration': 4.561}, {'text': 'so what is private Enterprise been doing', 'start': 164.28, 'duration': 4.599}, {'text': \"they've been going back into orbit where\", 'start': 166.08, 'duration': 5.76}, {'text': 'NASA has been since', 'start': 168.879, 'duration': 6.08}, {'text': '1962 with the launch of John Glenn and', 'start': 171.84, 'duration': 6.36}, {'text': 'so when does Private Enterprise lead us', 'start': 174.959, 'duration': 6.121}, {'text': \"into space I personally don't see that\", 'start': 178.2, 'duration': 4.759}, {'text': 'happening because to if you want to lead', 'start': 181.08, 'duration': 3.439}, {'text': \"into space What are you doing you're\", 'start': 182.959, 'duration': 3.64}, {'text': 'going where no one has gone before often', 'start': 184.519, 'duration': 4.921}, {'text': 'it involves risk that a company that has', 'start': 186.599, 'duration': 5.92}, {'text': \"investors will not take unless there's\", 'start': 189.44, 'duration': 7.68}, {'text': 'very clear return on investment Roi', 'start': 192.519, 'duration': 6.401}, {'text': \"governments don't need a financial\", 'start': 197.12, 'duration': 4.199}, {'text': 'return on investment if they can get a', 'start': 198.92, 'duration': 5.16}, {'text': 'geopolitical return on the investment', 'start': 201.319, 'duration': 5.881}, {'text': 'this is how power is established has', 'start': 204.08, 'duration': 5.239}, {'text': 'been ever been established in the world', 'start': 207.2, 'duration': 4.16}, {'text': 'for examp example private Enterprise has', 'start': 209.319, 'duration': 3.721}, {'text': \"been doing things that NASA's been doing\", 'start': 211.36, 'duration': 3.799}, {'text': 'for the past six decades by the way', 'start': 213.04, 'duration': 5.199}, {'text': \"they've been doing it for cheaper I can\", 'start': 215.159, 'duration': 6.481}, {'text': 'say without hesitation SpaceX has been', 'start': 218.239, 'duration': 6.041}, {'text': 'advancing the engineering Frontier of', 'start': 221.64, 'duration': 4.799}, {'text': 'space exploration especially with the', 'start': 224.28, 'duration': 4.76}, {'text': 'spectacle of the returning of the first', 'start': 226.439, 'duration': 4.681}, {'text': 'stage back to Earth so that you can', 'start': 229.04, 'duration': 4.32}, {'text': \"reuse it I've said this before If you\", 'start': 231.12, 'duration': 7.36}, {'text': 'flew a Airbus A380 or Boeing 747 to', 'start': 233.36, 'duration': 7.36}, {'text': 'Europe from the United States States and', 'start': 238.48, 'duration': 4.36}, {'text': 'and when you landed they shoved it off a', 'start': 240.72, 'duration': 4.359}, {'text': 'cliff and rolled out another one your', 'start': 242.84, 'duration': 5.08}, {'text': 'trip to Europe would be really expensive', 'start': 245.079, 'duration': 6.481}, {'text': 'so reusability matters so these are', 'start': 247.92, 'duration': 7.28}, {'text': 'tremendous triumphs of SpaceX in this', 'start': 251.56, 'duration': 6.88}, {'text': 'space pun intended can I think of it as', 'start': 255.2, 'duration': 5.8}, {'text': \"a space Frontier being pushed I can't\", 'start': 258.44, 'duration': 4.6}, {'text': \"really do that I can't think of it that\", 'start': 261.0, 'duration': 4.639}, {'text': 'way I said that then I got interviewed', 'start': 263.04, 'duration': 5.24}, {'text': 'the the Press interviewed me the in made', 'start': 265.639, 'duration': 5.761}, {'text': \"it to India uh you said space has hasn't\", 'start': 268.28, 'duration': 5.68}, {'text': 'accomplished anything no I did not say', 'start': 271.4, 'duration': 5.72}, {'text': \"that okay again that's clickbait that's\", 'start': 273.96, 'duration': 4.92}, {'text': 'like creating a feud where there really', 'start': 277.12, 'duration': 5.96}, {'text': \"wasn't one uh I said that private\", 'start': 278.88, 'duration': 7.72}, {'text': 'Enterprise will do what nations have', 'start': 283.08, 'duration': 6.52}, {'text': \"done and they'll do it more cheaply if\", 'start': 286.6, 'duration': 4.159}, {'text': \"there's an occasion for private\", 'start': 289.6, 'duration': 2.56}, {'text': 'Enterprise to do something that Nations', 'start': 290.759, 'duration': 3.801}, {'text': \"have never done before that's a very\", 'start': 292.16, 'duration': 5.72}, {'text': 'serious conversation in the funding room', 'start': 294.56, 'duration': 4.919}, {'text': 'venture capitalist uh Elon what do you', 'start': 297.88, 'duration': 3.8}, {'text': 'want to do oh I want to send astronauts', 'start': 299.479, 'duration': 4.801}, {'text': 'to Mars how much will it cost a lot', 'start': 301.68, 'duration': 3.959}, {'text': 'possibly a trillion dollars is it', 'start': 304.28, 'duration': 4.08}, {'text': 'dangerous yes will people die probably', 'start': 305.639, 'duration': 4.721}, {'text': \"what's the return on that investment I I\", 'start': 308.36, 'duration': 3.6}, {'text': \"can't think of one right now that's a\", 'start': 310.36, 'duration': 4.0}, {'text': 'five-minute meeting so how would Elon', 'start': 311.96, 'duration': 4.6}, {'text': 'get to send his Rockets to Mars from the', 'start': 314.36, 'duration': 4.76}, {'text': 'the the Playbook of the history of Geo', 'start': 316.56, 'duration': 5.28}, {'text': \"of geopolitics what'll happen the United\", 'start': 319.12, 'duration': 5.56}, {'text': 'States decides we need to send', 'start': 321.84, 'duration': 6.0}, {'text': 'astronauts to Mars One Day', 'start': 324.68, 'duration': 5.16}, {'text': 'geopolitically by whatever forces is', 'start': 327.84, 'duration': 4.04}, {'text': 'operating on us and then NASA looks', 'start': 329.84, 'duration': 4.68}, {'text': \"around say you know we don't have a\", 'start': 331.88, 'duration': 6.0}, {'text': 'rocket to do that and then Elon says I', 'start': 334.52, 'duration': 5.959}, {'text': 'have a rocket and rolls out his rocket', 'start': 337.88, 'duration': 5.48}, {'text': 'to Mars then we ride an SpaceX rocket to', 'start': 340.479, 'duration': 5.72}, {'text': 'Mars that could easily happen but I just', 'start': 343.36, 'duration': 6.36}, {'text': \"want to make it clear it's not a mission\", 'start': 346.199, 'duration': 7.161}, {'text': 'initiated by a private company because', 'start': 349.72, 'duration': 5.68}, {'text': 'the money for that is not going to come', 'start': 353.36, 'duration': 4.88}, {'text': 'from his earnings on anything else he', 'start': 355.4, 'duration': 6.2}, {'text': \"does in space it's going to come from\", 'start': 358.24, 'duration': 7.6}, {'text': \"taxpayers funding NASA's goals inspired\", 'start': 361.6, 'duration': 6.96}, {'text': 'by the geopolitics of the world at that', 'start': 365.84, 'duration': 6.199}, {'text': \"time so I'm delighted to see that Elon\", 'start': 368.56, 'duration': 6.32}, {'text': 'SpaceX has announced that in the coming', 'start': 372.039, 'duration': 5.6}, {'text': \"years they're going to send uncrewed\", 'start': 374.88, 'duration': 5.439}, {'text': 'Rockets to Mars these are vessels that', 'start': 377.639, 'duration': 4.28}, {'text': 'are equipped to carry people but you', 'start': 380.319, 'duration': 3.361}, {'text': \"wouldn't send people first if you're\", 'start': 381.919, 'duration': 3.521}, {'text': 'still sort of getting the bugs out of', 'start': 383.68, 'duration': 4.079}, {'text': \"the system so that's great that would be\", 'start': 385.44, 'duration': 4.44}, {'text': 'advancing a space Frontier you know why', 'start': 387.759, 'duration': 3.88}, {'text': 'no one has ever sent a rocket to Mars', 'start': 389.88, 'duration': 3.2}, {'text': 'that could have carried people that', 'start': 391.639, 'duration': 3.241}, {'text': 'would be advancing a space Frontier I', 'start': 393.08, 'duration': 3.679}, {'text': \"look forward to that and I don't know\", 'start': 394.88, 'duration': 3.48}, {'text': 'enough details is he going to bring him', 'start': 396.759, 'duration': 3.681}, {'text': 'back you kind of need to do that if', 'start': 398.36, 'duration': 3.6}, {'text': \"you're going to have people there unless\", 'start': 400.44, 'duration': 3.52}, {'text': 'they signed up for a one-way trip and', 'start': 401.96, 'duration': 4.359}, {'text': 'Mars is not quite ready to receive', 'start': 403.96, 'duration': 4.799}, {'text': 'people on a one-way trip all right you', 'start': 406.319, 'duration': 4.201}, {'text': 'got to wait for the terraforming for', 'start': 408.759, 'duration': 3.521}, {'text': \"that to happen uh you'd want to bring\", 'start': 410.52, 'duration': 4.239}, {'text': 'them back by the way that round trip', 'start': 412.28, 'duration': 4.759}, {'text': 'would take several years and a minimum', 'start': 414.759, 'duration': 4.28}, {'text': \"energy transfer from Earth's orbit to\", 'start': 417.039, 'duration': 5.481}, {'text': 'Mars orbit it takes just under a year to', 'start': 419.039, 'duration': 5.481}, {'text': 'do that then if you want a minimum', 'start': 422.52, 'duration': 4.16}, {'text': 'energy return you got to wait until', 'start': 424.52, 'duration': 4.959}, {'text': 'Earth and Mars are properly configured', 'start': 426.68, 'duration': 5.799}, {'text': 'once again in our respective orbits and', 'start': 429.479, 'duration': 4.961}, {'text': 'then you can take advantage of that', 'start': 432.479, 'duration': 3.881}, {'text': 'configuration and then come back so a', 'start': 434.44, 'duration': 4.159}, {'text': 'full roundtrip is several years so I', 'start': 436.36, 'duration': 3.76}, {'text': 'look forward to this and see how that', 'start': 438.599, 'duration': 3.481}, {'text': 'unfolds those are definitely the first', 'start': 440.12, 'duration': 4.639}, {'text': 'steps by the way the current American', 'start': 442.08, 'duration': 5.0}, {'text': \"program to return to the moon it's\", 'start': 444.759, 'duration': 4.84}, {'text': 'called Artemis has three plan missions', 'start': 447.08, 'duration': 4.64}, {'text': 'the first was a uncrewed mission to the', 'start': 449.599, 'duration': 4.121}, {'text': 'Moon it went to the moon and came back', 'start': 451.72, 'duration': 4.64}, {'text': 'splashed down in the in the ocean good', 'start': 453.72, 'duration': 5.24}, {'text': 'second is a crude mission to the moon', 'start': 456.36, 'duration': 5.36}, {'text': 'but not land yet third would be a crude', 'start': 458.96, 'duration': 5.639}, {'text': 'Mission To The Moon where you land right', 'start': 461.72, 'duration': 5.84}, {'text': 'incremental steps just as Apollo had', 'start': 464.599, 'duration': 4.56}, {'text': \"unfolded that's one of the reasons why\", 'start': 467.56, 'duration': 3.88}, {'text': 'there were many Apollo missions each one', 'start': 469.159, 'duration': 4.6}, {'text': 'was incrementally more ambitious than', 'start': 471.44, 'duration': 5.599}, {'text': 'the previous one so this is how space', 'start': 473.759, 'duration': 5.801}, {'text': 'works if you want to stay safe in the', 'start': 477.039, 'duration': 4.241}, {'text': 'process especially when it involves', 'start': 479.56, 'duration': 6.319}, {'text': 'people crew astronauts and uh yeah look', 'start': 481.28, 'duration': 5.96}, {'text': 'forward to seeing what comes of that', 'start': 485.879, 'duration': 6.401}, {'text': 'good luck SpaceX God speed to you', 'start': 487.24, 'duration': 5.04}]\n",
      "Elon announces he's going to send an uncrewed Mission to Mars he and I got into a little dust up in recent weeks consider that he hasn't done anything that NASA hasn't already done the the actual space Frontier is still held by NASA and I I was surprised to see some headlines because they it largely misrepresented what I actually said publicly didn't so much misrepresent it but it made more of it than I did maybe because they felt it could serve as good clickbait let's go back a few years when Elon and SpaceX was commissioned by NASA to bring cargo to the space station that was headlines oh my God opening a new frontier in space that private Enterprise will they lead the way and the big headlines and I'm thought what what he's taking cargo to the space station something NASA's been doing for decades so now private Enterprise is going to do it how that fact could turn into oh my gosh private Enterprise is going to lead the way I I didn't see how one connects to the other here's my point the history of really expensive things ever happening in Civilization has in essentially every case been led geopolitically by Nations Nations lead expensive projects and when the cost of these projects are understood the risks are Quantified and the time frames are established then private Enterprise comes in later to see if they can make a buck off of it that's perfectly normal and natural Arc in the history of major funded projects if the project does not require much money then private Enterprise could do it because it's a relatively low risk fitted into their R&D budget fine I'm talking about major allocations of the resources of a civilization like China building the Great Wall like Europe building Cathedrals uh and churches a huge investment of time energy and effort like the Apollo program the Manhattan Project all of these are instigated by either governments and in the case of the cathedrals Praise of deity the pyramids add those Praise of royalty these are forces that dislodge money from the coffers of a civilization so what is private Enterprise been doing they've been going back into orbit where NASA has been since 1962 with the launch of John Glenn and so when does Private Enterprise lead us into space I personally don't see that happening because to if you want to lead into space What are you doing you're going where no one has gone before often it involves risk that a company that has investors will not take unless there's very clear return on investment Roi governments don't need a financial return on investment if they can get a geopolitical return on the investment this is how power is established has been ever been established in the world for examp example private Enterprise has been doing things that NASA's been doing for the past six decades by the way they've been doing it for cheaper I can say without hesitation SpaceX has been advancing the engineering Frontier of space exploration especially with the spectacle of the returning of the first stage back to Earth so that you can reuse it I've said this before If you flew a Airbus A380 or Boeing 747 to Europe from the United States States and and when you landed they shoved it off a cliff and rolled out another one your trip to Europe would be really expensive so reusability matters so these are tremendous triumphs of SpaceX in this space pun intended can I think of it as a space Frontier being pushed I can't really do that I can't think of it that way I said that then I got interviewed the the Press interviewed me the in made it to India uh you said space has hasn't accomplished anything no I did not say that okay again that's clickbait that's like creating a feud where there really wasn't one uh I said that private Enterprise will do what nations have done and they'll do it more cheaply if there's an occasion for private Enterprise to do something that Nations have never done before that's a very serious conversation in the funding room venture capitalist uh Elon what do you want to do oh I want to send astronauts to Mars how much will it cost a lot possibly a trillion dollars is it dangerous yes will people die probably what's the return on that investment I I can't think of one right now that's a five-minute meeting so how would Elon get to send his Rockets to Mars from the the the Playbook of the history of Geo of geopolitics what'll happen the United States decides we need to send astronauts to Mars One Day geopolitically by whatever forces is operating on us and then NASA looks around say you know we don't have a rocket to do that and then Elon says I have a rocket and rolls out his rocket to Mars then we ride an SpaceX rocket to Mars that could easily happen but I just want to make it clear it's not a mission initiated by a private company because the money for that is not going to come from his earnings on anything else he does in space it's going to come from taxpayers funding NASA's goals inspired by the geopolitics of the world at that time so I'm delighted to see that Elon SpaceX has announced that in the coming years they're going to send uncrewed Rockets to Mars these are vessels that are equipped to carry people but you wouldn't send people first if you're still sort of getting the bugs out of the system so that's great that would be advancing a space Frontier you know why no one has ever sent a rocket to Mars that could have carried people that would be advancing a space Frontier I look forward to that and I don't know enough details is he going to bring him back you kind of need to do that if you're going to have people there unless they signed up for a one-way trip and Mars is not quite ready to receive people on a one-way trip all right you got to wait for the terraforming for that to happen uh you'd want to bring them back by the way that round trip would take several years and a minimum energy transfer from Earth's orbit to Mars orbit it takes just under a year to do that then if you want a minimum energy return you got to wait until Earth and Mars are properly configured once again in our respective orbits and then you can take advantage of that configuration and then come back so a full roundtrip is several years so I look forward to this and see how that unfolds those are definitely the first steps by the way the current American program to return to the moon it's called Artemis has three plan missions the first was a uncrewed mission to the Moon it went to the moon and came back splashed down in the in the ocean good second is a crude mission to the moon but not land yet third would be a crude Mission To The Moon where you land right incremental steps just as Apollo had unfolded that's one of the reasons why there were many Apollo missions each one was incrementally more ambitious than the previous one so this is how space works if you want to stay safe in the process especially when it involves people crew astronauts and uh yeah look forward to seeing what comes of that good luck SpaceX God speed to you\n"
     ]
    },
    {
     "data": {
      "application/vnd.jupyter.widget-view+json": {
       "model_id": "cfb113b5efb44d7492764c96612865b3",
       "version_major": 2,
       "version_minor": 0
      },
      "text/plain": [
       "config.json:   0%|          | 0.00/892 [00:00<?, ?B/s]"
      ]
     },
     "metadata": {},
     "output_type": "display_data"
    },
    {
     "name": "stderr",
     "output_type": "stream",
     "text": [
      "c:\\Users\\cshi\\Projects\\hackathon\\venv\\Lib\\site-packages\\huggingface_hub\\file_download.py:139: UserWarning: `huggingface_hub` cache-system uses symlinks by default to efficiently store duplicated files but your machine does not support them in C:\\Users\\cshi\\.cache\\huggingface\\hub\\models--oliverguhr--fullstop-punctuation-multilang-large. Caching files will still work but in a degraded version that might require more space on your disk. This warning can be disabled by setting the `HF_HUB_DISABLE_SYMLINKS_WARNING` environment variable. For more details, see https://huggingface.co/docs/huggingface_hub/how-to-cache#limitations.\n",
      "To support symlinks on Windows, you either need to activate Developer Mode or to run Python as an administrator. In order to activate developer mode, see this article: https://docs.microsoft.com/en-us/windows/apps/get-started/enable-your-device-for-development\n",
      "  warnings.warn(message)\n"
     ]
    },
    {
     "data": {
      "application/vnd.jupyter.widget-view+json": {
       "model_id": "81aacde34c184226be48bf893faa8871",
       "version_major": 2,
       "version_minor": 0
      },
      "text/plain": [
       "model.safetensors:   0%|          | 0.00/2.24G [00:00<?, ?B/s]"
      ]
     },
     "metadata": {},
     "output_type": "display_data"
    },
    {
     "data": {
      "application/vnd.jupyter.widget-view+json": {
       "model_id": "c7ab76946c394d42b26f32a31351ee57",
       "version_major": 2,
       "version_minor": 0
      },
      "text/plain": [
       "tokenizer_config.json:   0%|          | 0.00/406 [00:00<?, ?B/s]"
      ]
     },
     "metadata": {},
     "output_type": "display_data"
    },
    {
     "data": {
      "application/vnd.jupyter.widget-view+json": {
       "model_id": "7737919de36e4f1e9c62acf0c0fc8922",
       "version_major": 2,
       "version_minor": 0
      },
      "text/plain": [
       "sentencepiece.bpe.model:   0%|          | 0.00/5.07M [00:00<?, ?B/s]"
      ]
     },
     "metadata": {},
     "output_type": "display_data"
    },
    {
     "data": {
      "application/vnd.jupyter.widget-view+json": {
       "model_id": "7b53fe6f71734a15a06d0e1098bb5d04",
       "version_major": 2,
       "version_minor": 0
      },
      "text/plain": [
       "tokenizer.json:   0%|          | 0.00/17.1M [00:00<?, ?B/s]"
      ]
     },
     "metadata": {},
     "output_type": "display_data"
    },
    {
     "data": {
      "application/vnd.jupyter.widget-view+json": {
       "model_id": "3eaffdd4ebcc497f800cff1f5d678af3",
       "version_major": 2,
       "version_minor": 0
      },
      "text/plain": [
       "special_tokens_map.json:   0%|          | 0.00/239 [00:00<?, ?B/s]"
      ]
     },
     "metadata": {},
     "output_type": "display_data"
    },
    {
     "name": "stderr",
     "output_type": "stream",
     "text": [
      "c:\\Users\\cshi\\Projects\\hackathon\\venv\\Lib\\site-packages\\transformers\\pipelines\\token_classification.py:170: UserWarning: `grouped_entities` is deprecated and will be removed in version v5.0.0, defaulted to `aggregation_strategy=\"AggregationStrategy.NONE\"` instead.\n",
      "  warnings.warn(\n"
     ]
    },
    {
     "name": "stdout",
     "output_type": "stream",
     "text": [
      "Elon announces he's going to send an uncrewed Mission to Mars, he and I got into a little dust up in recent weeks. consider that he hasn't done anything that NASA hasn't already done. the the actual space Frontier is still held by NASA and I I was surprised to see some headlines because they it largely misrepresented what I actually said. publicly, didn't so much misrepresent it, but it made more of it than I did, maybe because they felt it could serve as good clickbait. let's go back a few years when Elon and SpaceX was commissioned by NASA to bring cargo to the space station. that was headlines. oh my God, opening a new frontier in space. that private Enterprise- will they lead the way? and the big headlines. and I'm thought, what? what? he's taking cargo to the space station, something NASA's been doing for decades, so now private Enterprise is going to do it. how that fact could turn into. oh my gosh, private Enterprise is going to lead the way. I, I didn't see how one connects to the other. here's my point. the history of really expensive things ever happening in Civilization has, in essentially every case, been led geopolitically by Nations. Nations lead expensive projects and when the cost of these projects are understood, the risks are Quantified and the time frames are established. then private Enterprise comes in later to see if they can make a buck off of it. that's perfectly normal and natural Arc in the history of major funded projects. if the project does not require much money, then private Enterprise could do it because it's a relatively low risk, fitted into their R&D budget fine. I'm talking about major allocations of the resources of a civilization, like China building the Great Wall. like Europe, building Cathedrals, uh, and churches, a huge investment of time, energy and effort, like the Apollo program, the Manhattan Project. all of these are instigated by either governments- and in the case of the cathedrals, Praise of deity, the pyramids, add those Praise of royalty. these are forces that dislodge money from the coffers of a civilization. so what is private Enterprise been doing? they've been going back into orbit where NASA has been since 1962 with the launch of John Glenn. and so when does Private Enterprise lead us into space? I personally don't see that happening. because to if you want to lead into space, What are you doing? you're going where no one has gone before. often it involves risk that a company that has investors will not take unless there's very clear return on investment. Roi governments don't need a financial return on investment if they can get a geopolitical return on the investment. this is how power is established. has been ever been established in the world? for examp example, private Enterprise has been doing things that NASA's been doing for the past six decades. by the way, they've been doing it for cheaper, I can say without hesitation. SpaceX has been advancing the engineering Frontier of space exploration, especially with the spectacle of the returning of the first stage back to Earth, so that you can reuse it. I've said this before: If you flew a Airbus A380 or Boeing 747 to Europe from the United States States and and when you landed they shoved it off a cliff and rolled out another one, your trip to Europe would be really expensive. so reusability matters. so these are tremendous triumphs of SpaceX in this space. pun intended, can I think of it as a space Frontier being pushed? I can't really do that. I can't think of it that way. I said that. then I got interviewed, the. the Press interviewed me. the in made it to India. uh, you said: space has hasn't accomplished anything. no, I did not say that. okay, again, that's clickbait. that's like creating a feud where there really wasn't one. uh, I said that private Enterprise will do what nations have done and they'll do it more cheaply if there's an occasion for private Enterprise to do something that Nations have never done before. that's a very serious conversation in the funding room. venture capitalist, uh, Elon, what do you want to do? oh, I want to send astronauts to Mars. how much will it cost? a lot, possibly a trillion dollars. is it dangerous? yes, will people die? probably. what's the return on that investment? I, I can't think of one right now. that's a five-minute meeting. so how would Elon get to send his Rockets to Mars from the, the, the Playbook of the history of Geo, of geopolitics? what'll happen? the United States decides we need to send astronauts to Mars One Day, geopolitically, by whatever forces is operating on us, and then NASA looks around, say: you know, we don't have a rocket to do that. and then Elon says I have a rocket and rolls out his rocket to Mars. then we ride an SpaceX rocket to Mars. that could easily happen. but I just want to make it clear it's not a mission initiated by a private company, because the money for that is not going to come from his earnings on anything else he does in space. it's going to come from taxpayers funding NASA's goals inspired by the geopolitics of the world at that time. so I'm delighted to see that Elon SpaceX has announced that in the coming years they're going to send uncrewed Rockets to Mars. these are vessels that are equipped to carry people, but you wouldn't send people first if you're still sort of getting the bugs out of the system. so that's great. that would be advancing a space Frontier. you know why no one has ever sent a rocket to Mars that could have carried people? that would be advancing a space Frontier. I look forward to that and I don't know enough details. is he going to bring him back? you kind of need to do that if you're going to have people there unless they signed up for a one-way trip and Mars is not quite ready to receive people on a one-way trip, all right, you got to wait for the terraforming for that to happen. uh, you'd want to bring them back. by the way, that round trip would take several years and a minimum energy transfer from Earth's orbit to Mars orbit. it takes just under a year to do that. then, if you want a minimum energy return, you got to wait until Earth and Mars are properly configured once again in our respective orbits and then you can take advantage of that configuration and then come back. so a full roundtrip is several years. so I look forward to this and see how that unfolds. those are definitely the first steps. by the way, the current American program to return to the moon- it's called Artemis- has three plan missions. the first was a uncrewed mission to the Moon. it went to the moon and came back splashed down in the in the ocean. good. second is a crude mission to the moon but not land yet. third would be a crude Mission To The Moon where you land right incremental steps, just as Apollo had unfolded. that's one of the reasons why there were many Apollo missions. each one was incrementally more ambitious than the previous one. so this is how space works if you want to stay safe in the process, especially when it involves people, crew, astronauts and- uh yeah, look forward to seeing what comes of that. good luck, SpaceX. God speed to you.\n"
     ]
    }
   ],
   "source": [
    "# try for one video\n",
    "from youtube_transcript_api import YouTubeTranscriptApi\n",
    "video=\"https://www.youtube.com/watch?v=3Jgev_YGl44\"\n",
    "id_video = video.split(\"=\")[1]\n",
    "transcript = YouTubeTranscriptApi.get_transcript(id_video)\n",
    "print(transcript)\n",
    "\n",
    "doc=[]\n",
    "for line in transcript:\n",
    "  if \"\\n\" in line['text']:\n",
    "    x=line['text'].replace(\"\\n\",\" \")\n",
    "    doc.append(x)\n",
    "  else:\n",
    "    doc.append(line['text'])\n",
    "paragraph=\" \".join(doc)\n",
    "print(paragraph)\n",
    "\n",
    "from deepmultilingualpunctuation import PunctuationModel\n",
    "\n",
    "model = PunctuationModel()\n",
    "result = model.restore_punctuation(paragraph)\n",
    "print(result)"
   ]
  },
  {
   "cell_type": "code",
   "execution_count": null,
   "metadata": {},
   "outputs": [
    {
     "name": "stdout",
     "output_type": "stream",
     "text": [
      "In the given transcript, there are 2 people talking:\n",
      "\n",
      "1. Elon (referring to himself as \"he\")\n",
      "2. An unknown person who is likely an interviewer or a colleague of Elon's.\n",
      "\n",
      "They appear to be in a conversation about SpaceX's plans to send uncrewed missions to Mars and their views on the history of space exploration and private enterprise involvement.\n"
     ]
    }
   ],
   "source": [
    "from langchain_ollama import OllamaLLM\n",
    "\n",
    "llm = OllamaLLM(model=\"llama3.2\")\n"
   ]
  },
  {
   "cell_type": "code",
   "execution_count": null,
   "metadata": {},
   "outputs": [],
   "source": [
    "response = llm.invoke(\"How many people are talking in the following video? The transcript is as follows: \" + result)\n",
    "print(response)"
   ]
  },
  {
   "cell_type": "code",
   "execution_count": null,
   "metadata": {},
   "outputs": [
    {
     "name": "stdout",
     "output_type": "stream",
     "text": [
      "[{'text': \"Elon announces he's going to send an\", 'start': 0.08, 'duration': 4.0}, {'text': 'uncrewed Mission to', 'start': 2.2, 'duration': 6.359}, {'text': 'Mars he and I got into a little dust up', 'start': 4.08, 'duration': 7.439}, {'text': 'in recent weeks', 'start': 8.559, 'duration': 6.681}, {'text': \"consider that he hasn't done anything\", 'start': 11.519, 'duration': 6.161}, {'text': \"that NASA hasn't already done the the\", 'start': 15.24, 'duration': 5.879}, {'text': 'actual space Frontier is still held by', 'start': 17.68, 'duration': 6.64}, {'text': 'NASA and I I was surprised to see some', 'start': 21.119, 'duration': 6.761}, {'text': 'headlines because they it largely', 'start': 24.32, 'duration': 5.959}, {'text': 'misrepresented what I actually said', 'start': 27.88, 'duration': 4.839}]\n",
      "Elon announces he's going to send an uncrewed Mission to Mars he and I got into a little dust up in recent weeks consider that he hasn't done anything that NASA hasn't already done the the actual space Frontier is still held by NASA and I I was surprised to see some headlines because they it largely misrepresented what I actually said\n",
      "Elon announces he's going to send an uncrewed Mission to Mars. he and I got into a little dust up in recent weeks. consider that he hasn't done anything that NASA hasn't already done. the, the actual space Frontier is still held by NASA and I. I was surprised to see some headlines because they it largely misrepresented what I actually said.\n"
     ]
    }
   ],
   "source": [
    "# try on smaller sample\n",
    "\n",
    "video=\"https://www.youtube.com/watch?v=3Jgev_YGl44\"\n",
    "id_video = video.split(\"=\")[1]\n",
    "transcript = YouTubeTranscriptApi.get_transcript(id_video)[0:10]\n",
    "print(transcript)\n",
    "\n",
    "doc=[]\n",
    "for line in transcript:\n",
    "  if \"\\n\" in line['text']:\n",
    "    x=line['text'].replace(\"\\n\",\" \")\n",
    "    doc.append(x)\n",
    "  else:\n",
    "    doc.append(line['text'])\n",
    "paragraph=\" \".join(doc)\n",
    "print(paragraph)\n",
    "\n",
    "result_short = model.restore_punctuation(paragraph)\n",
    "print(result_short)"
   ]
  },
  {
   "cell_type": "code",
   "execution_count": null,
   "metadata": {},
   "outputs": [
    {
     "name": "stdout",
     "output_type": "stream",
     "text": [
      "2\n"
     ]
    }
   ],
   "source": [
    "n_ppl = llm.invoke(\"How many people are talking in the following video? The beginning of the transcript is as follows: \" + result + \"\\nPlease give the answer as a single number without punctuation.\")\n",
    "print(n_ppl)"
   ]
  }
 ],
 "metadata": {
  "kernelspec": {
   "display_name": "venv",
   "language": "python",
   "name": "python3"
  },
  "language_info": {
   "codemirror_mode": {
    "name": "ipython",
    "version": 3
   },
   "file_extension": ".py",
   "mimetype": "text/x-python",
   "name": "python",
   "nbconvert_exporter": "python",
   "pygments_lexer": "ipython3",
   "version": "3.11.4"
  }
 },
 "nbformat": 4,
 "nbformat_minor": 2
}
